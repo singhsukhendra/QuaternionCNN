{
  "nbformat": 4,
  "nbformat_minor": 0,
  "metadata": {
    "accelerator": "GPU",
    "colab": {
      "name": "breast_cancer_histology_images1.ipynb",
      "provenance": [],
      "collapsed_sections": [],
      "include_colab_link": true
    },
    "kernelspec": {
      "display_name": "Python 3",
      "language": "python",
      "name": "python3"
    },
    "language_info": {
      "codemirror_mode": {
        "name": "ipython",
        "version": 3
      },
      "file_extension": ".py",
      "mimetype": "text/x-python",
      "name": "python",
      "nbconvert_exporter": "python",
      "pygments_lexer": "ipython3",
      "version": "3.6.1"
    }
  },
  "cells": [
    {
      "cell_type": "markdown",
      "metadata": {
        "id": "view-in-github",
        "colab_type": "text"
      },
      "source": [
        "<a href=\"https://colab.research.google.com/github/singhsukhendra/QuaternionCNN/blob/master/breast_cancer_histology_images1.ipynb\" target=\"_parent\"><img src=\"https://colab.research.google.com/assets/colab-badge.svg\" alt=\"Open In Colab\"/></a>"
      ]
    },
    {
      "cell_type": "code",
      "metadata": {
        "colab_type": "code",
        "id": "UcdKnKIeo5R5",
        "outputId": "c9b9fe42-5e04-409d-b9a2-b7deb1e24939",
        "colab": {
          "base_uri": "https://localhost:8080/",
          "height": 85
        }
      },
      "source": [
        "!gdown https://drive.google.com/uc?id=107Qo3Fs_pdzByrOMpet4w8G0uNle2ooN\n",
        "\n",
        "import zipfile\n",
        "with zipfile.ZipFile(\"complexnn.zip\",\"r\") as zip_ref:\n",
        "    zip_ref.extractall()"
      ],
      "execution_count": 0,
      "outputs": [
        {
          "output_type": "stream",
          "text": [
            "Downloading...\n",
            "From: https://drive.google.com/uc?id=107Qo3Fs_pdzByrOMpet4w8G0uNle2ooN\n",
            "To: /content/complexnn.zip\n",
            "\r  0% 0.00/12.6k [00:00<?, ?B/s]\r100% 12.6k/12.6k [00:00<00:00, 27.9MB/s]\n"
          ],
          "name": "stdout"
        }
      ]
    },
    {
      "cell_type": "code",
      "metadata": {
        "_cell_guid": "bb9fe3ef-104a-4a98-9f87-b65906acf50f",
        "_kg_hide-input": true,
        "_uuid": "5a9827f8d703a8741175d1e7df3121632715bdd8",
        "colab_type": "code",
        "id": "h8wRmEayfzeB",
        "outputId": "131da4b9-1749-4ef0-fcc6-b462b17f8efb",
        "colab": {
          "base_uri": "https://localhost:8080/",
          "height": 71
        }
      },
      "source": [
        "import pandas as pd\n",
        "import numpy as np\n",
        "import os\n",
        "\n",
        "from glob import glob\n",
        "import itertools\n",
        "import fnmatch\n",
        "import random\n",
        "import matplotlib.pylab as plt\n",
        "import seaborn as sns\n",
        "import cv2\n",
        "from sklearn.model_selection import train_test_split\n",
        "%matplotlib inline"
      ],
      "execution_count": 0,
      "outputs": [
        {
          "output_type": "stream",
          "text": [
            "/usr/local/lib/python3.6/dist-packages/statsmodels/tools/_testing.py:19: FutureWarning: pandas.util.testing is deprecated. Use the functions in the public API at pandas.testing instead.\n",
            "  import pandas.util.testing as tm\n"
          ],
          "name": "stderr"
        }
      ]
    },
    {
      "cell_type": "code",
      "metadata": {
        "colab_type": "code",
        "id": "9WoDr7zYgVX7",
        "outputId": "cd68bd90-32d3-4a22-f184-348a5abde312",
        "colab": {
          "base_uri": "https://localhost:8080/",
          "height": 85
        }
      },
      "source": [
        "!gdown https://drive.google.com/uc?id=1tFoQJrwtMYCBMG0WH6unek9dc2sjfQZ4\n",
        "\n",
        "import zipfile\n",
        "with zipfile.ZipFile(\"breast-histopathology-images.zip\",\"r\") as zip_ref:\n",
        "    zip_ref.extractall(\"breast-histopathology-images\")"
      ],
      "execution_count": 0,
      "outputs": [
        {
          "output_type": "stream",
          "text": [
            "Downloading...\n",
            "From: https://drive.google.com/uc?id=1tFoQJrwtMYCBMG0WH6unek9dc2sjfQZ4\n",
            "To: /content/breast-histopathology-images.zip\n",
            "3.33GB [00:53, 62.4MB/s]\n"
          ],
          "name": "stdout"
        }
      ]
    },
    {
      "cell_type": "code",
      "metadata": {
        "_cell_guid": "765908c1-86cc-41df-8479-a39174231237",
        "_uuid": "1978266e1e2fe5d6eb9bdc17deb0d309441065a2",
        "colab_type": "code",
        "id": "EDYMenE3fzea",
        "outputId": "3c34ac2d-5c3d-4372-f715-e8ab5212a0fd",
        "colab": {
          "base_uri": "https://localhost:8080/",
          "height": 187
        }
      },
      "source": [
        "imagePatches = glob('breast-histopathology-images/**/*.png', recursive=True)\n",
        "for filename in imagePatches[0:10]:\n",
        "    print(filename)"
      ],
      "execution_count": 0,
      "outputs": [
        {
          "output_type": "stream",
          "text": [
            "breast-histopathology-images/9261/1/9261_idx5_x1801_y1201_class1.png\n",
            "breast-histopathology-images/9261/1/9261_idx5_x2501_y1401_class1.png\n",
            "breast-histopathology-images/9261/1/9261_idx5_x1451_y851_class1.png\n",
            "breast-histopathology-images/9261/1/9261_idx5_x1701_y1401_class1.png\n",
            "breast-histopathology-images/9261/1/9261_idx5_x1751_y1401_class1.png\n",
            "breast-histopathology-images/9261/1/9261_idx5_x1001_y951_class1.png\n",
            "breast-histopathology-images/9261/1/9261_idx5_x2301_y1701_class1.png\n",
            "breast-histopathology-images/9261/1/9261_idx5_x1901_y1201_class1.png\n",
            "breast-histopathology-images/9261/1/9261_idx5_x2651_y1651_class1.png\n",
            "breast-histopathology-images/9261/1/9261_idx5_x1951_y1101_class1.png\n"
          ],
          "name": "stdout"
        }
      ]
    },
    {
      "cell_type": "code",
      "metadata": {
        "_cell_guid": "939bc134-6122-4d4d-aa6c-89a47318896d",
        "_uuid": "aae6a2ec2ab20bd94422e29b147a45a880fb480a",
        "colab_type": "code",
        "id": "4nqsgflmfzfO",
        "outputId": "0fd2e8f0-7765-49e2-d99f-b604c8b16c34",
        "colab": {
          "base_uri": "https://localhost:8080/",
          "height": 156
        }
      },
      "source": [
        "patternZero = '*class0.png'\n",
        "patternOne = '*class1.png'\n",
        "classZero = fnmatch.filter(imagePatches, patternZero)\n",
        "classOne = fnmatch.filter(imagePatches, patternOne)\n",
        "print(\"IDC(-)\\n\\n\",classZero[0:5],'\\n')\n",
        "print(\"IDC(+)\\n\\n\",classOne[0:5])"
      ],
      "execution_count": 0,
      "outputs": [
        {
          "output_type": "stream",
          "text": [
            "IDC(-)\n",
            "\n",
            " ['breast-histopathology-images/9261/0/9261_idx5_x1951_y851_class0.png', 'breast-histopathology-images/9261/0/9261_idx5_x701_y751_class0.png', 'breast-histopathology-images/9261/0/9261_idx5_x2051_y851_class0.png', 'breast-histopathology-images/9261/0/9261_idx5_x2701_y1601_class0.png', 'breast-histopathology-images/9261/0/9261_idx5_x2601_y1201_class0.png'] \n",
            "\n",
            "IDC(+)\n",
            "\n",
            " ['breast-histopathology-images/9261/1/9261_idx5_x1801_y1201_class1.png', 'breast-histopathology-images/9261/1/9261_idx5_x2501_y1401_class1.png', 'breast-histopathology-images/9261/1/9261_idx5_x1451_y851_class1.png', 'breast-histopathology-images/9261/1/9261_idx5_x1701_y1401_class1.png', 'breast-histopathology-images/9261/1/9261_idx5_x1751_y1401_class1.png']\n"
          ],
          "name": "stdout"
        }
      ]
    },
    {
      "cell_type": "code",
      "metadata": {
        "colab_type": "code",
        "id": "84MLYw_ch9Hw",
        "colab": {}
      },
      "source": [
        "X=[]\n",
        "y=[]\n",
        "\n",
        "for u in classZero:\n",
        "  X.append(u)\n",
        "  y.append(0)\n",
        "\n",
        "for u in classOne:\n",
        "  X.append(u)\n",
        "  y.append(1)\n",
        "\n"
      ],
      "execution_count": 0,
      "outputs": []
    },
    {
      "cell_type": "code",
      "metadata": {
        "colab_type": "code",
        "id": "ht7PNMsnioqu",
        "colab": {}
      },
      "source": [
        "df = pd.DataFrame()\n",
        "df[\"images\"]=X\n",
        "df[\"labels\"]=y\n",
        "df=df.sample(frac=1)"
      ],
      "execution_count": 0,
      "outputs": []
    },
    {
      "cell_type": "code",
      "metadata": {
        "colab_type": "code",
        "id": "cPHpbMZCkCbb",
        "colab": {}
      },
      "source": [
        "def RgbToQuaternion(img):\n",
        " b,g,r = cv2.split(img)\n",
        "\n",
        " M=np.zeros((50,50,4))\n",
        " M[:,:,1]=r\n",
        " M[:,:,2]=g\n",
        " M[:,:,3]=b\n",
        " return(np.array(M))\n"
      ],
      "execution_count": 0,
      "outputs": []
    },
    {
      "cell_type": "code",
      "metadata": {
        "colab_type": "code",
        "id": "Rjts5U_omEBN",
        "colab": {}
      },
      "source": [
        "def batch_generator(df,batch_size,steps):\n",
        " idx=1\n",
        " while True: \n",
        "  yield load_data(df,idx-1,batch_size)## Yields data\n",
        "  if idx < steps:\n",
        "    idx+=1\n",
        "  else:\n",
        "    idx=1"
      ],
      "execution_count": 0,
      "outputs": []
    },
    {
      "cell_type": "code",
      "metadata": {
        "colab_type": "code",
        "id": "Lc8AjGEVmN3Q",
        "colab": {}
      },
      "source": [
        "def load_data(df,idx,batch_size):\n",
        " start=idx*batch_size\n",
        " end=(idx+1)*batch_size\n",
        " x = []\n",
        " y = [] \n",
        " for  row  in df.values[start:end,:]:\n",
        "  img=row[0]\n",
        "\n",
        "  full_size_image = cv2.imread(img)\n",
        "  X=cv2.resize(full_size_image, (50,50), interpolation=cv2.INTER_CUBIC)\n",
        "\n",
        "  image = RgbToQuaternion(X) /255.\n",
        "  x.append(image) \n",
        "  y.append(row[-1] )\n",
        "\n",
        " return (np.array(x).reshape(-1,50,50,4), np.array(y).reshape(-1))"
      ],
      "execution_count": 0,
      "outputs": []
    },
    {
      "cell_type": "code",
      "metadata": {
        "colab_type": "code",
        "id": "es1vI6-hnmAU",
        "colab": {}
      },
      "source": [
        "\n",
        "df_train, df_test = train_test_split(df, test_size=0.3)\n"
      ],
      "execution_count": 0,
      "outputs": []
    },
    {
      "cell_type": "code",
      "metadata": {
        "colab_type": "code",
        "id": "-X9IR6Zun1ti",
        "colab": {}
      },
      "source": [
        "train_batch_generator = batch_generator(df_train, 64,len(df_train)//64)\n",
        "test_batch_generator = batch_generator(df_test, 64,len(df_train)//64)"
      ],
      "execution_count": 0,
      "outputs": []
    },
    {
      "cell_type": "code",
      "metadata": {
        "colab_type": "code",
        "id": "mYibjXz7pJ21",
        "outputId": "cf1ec36f-b633-45e3-9599-33500c4dd036",
        "colab": {
          "base_uri": "https://localhost:8080/",
          "height": 34
        }
      },
      "source": [
        "from   complexnn                             import *\n",
        "import keras\n",
        "from   keras.layers                          import *\n",
        "from   keras.models                          import Model\n",
        "import keras.backend                         as     K\n",
        "import numpy                                 as     np"
      ],
      "execution_count": 0,
      "outputs": [
        {
          "output_type": "stream",
          "text": [
            "Using TensorFlow backend.\n"
          ],
          "name": "stderr"
        }
      ]
    },
    {
      "cell_type": "code",
      "metadata": {
        "colab_type": "code",
        "id": "6uGhIdaVxt5w",
        "colab": {}
      },
      "source": [
        "\n",
        "\n",
        "from keras.optimizers import adam\n",
        "opt = adam(lr = 0.001,decay=1e-6)"
      ],
      "execution_count": 0,
      "outputs": []
    },
    {
      "cell_type": "code",
      "metadata": {
        "colab_type": "code",
        "id": "PxVi3TsaoZnE",
        "colab": {}
      },
      "source": [
        "input_seq = Input((50, 50, 4))\n",
        "O    =QuaternionConv2D(64, (3,3),activation='relu',padding='same')(input_seq)  \n",
        "O    = MaxPooling2D((2,2), padding='same')(O)\n",
        "\n",
        "O    =QuaternionConv2D(128, (3,3),activation='relu',padding='same')(input_seq)  \n",
        "O    = MaxPooling2D((2,2), padding='same')(O)\n",
        "\n",
        "O    =QuaternionConv2D(256, (3,3),activation='relu',padding='same')(input_seq)  \n",
        "O    = MaxPooling2D((2,2), padding='same')(O)\n",
        "\n",
        "O    = Flatten()(O)\n",
        "\n",
        "O  = QuaternionDense(256, activation='relu')(O)\n",
        "            \n",
        "O = Dense(1, activation='sigmoid')(O)\n",
        "model=Model(input_seq, O)\n",
        "            \n",
        "model.compile(optimizer=opt, loss='binary_crossentropy', metrics=['accuracy'])\n",
        "            \n",
        "            "
      ],
      "execution_count": 0,
      "outputs": []
    },
    {
      "cell_type": "code",
      "metadata": {
        "colab_type": "code",
        "id": "u1ODtvCypu83",
        "outputId": "2b7bb867-6842-4b6b-d8d6-dbcc35a51aad",
        "colab": {
          "base_uri": "https://localhost:8080/",
          "height": 649
        }
      },
      "source": [
        "from keras.callbacks import TensorBoard  \n",
        "\n",
        "logdir = \"logs/\"\n",
        "tensorboard_callback = TensorBoard(log_dir=logdir)\n",
        "\n",
        "\n",
        "\n",
        "\n",
        "history =model.fit_generator(batch_generator(df_train, 128,len(df_train)//128),\\\n",
        "                    steps_per_epoch=len(df_train)//128,epochs=18,\\\n",
        "                    verbose=1,validation_data=batch_generator(df_test, 64,len(df_test)//64),validation_steps=len(df_test)//64)"
      ],
      "execution_count": 20,
      "outputs": [
        {
          "output_type": "stream",
          "text": [
            "Epoch 1/18\n",
            "3035/3035 [==============================] - 803s 265ms/step - loss: 0.0142 - accuracy: 0.9955 - val_loss: 0.4173 - val_accuracy: 0.9185\n",
            "Epoch 2/18\n",
            "3035/3035 [==============================] - 792s 261ms/step - loss: 0.0145 - accuracy: 0.9954 - val_loss: 0.5217 - val_accuracy: 0.9225\n",
            "Epoch 3/18\n",
            "3035/3035 [==============================] - 800s 264ms/step - loss: 0.0149 - accuracy: 0.9957 - val_loss: 0.4158 - val_accuracy: 0.9250\n",
            "Epoch 4/18\n",
            "3035/3035 [==============================] - 795s 262ms/step - loss: 0.0160 - accuracy: 0.9962 - val_loss: 0.4554 - val_accuracy: 0.9286\n",
            "Epoch 5/18\n",
            "3035/3035 [==============================] - 795s 262ms/step - loss: 0.0124 - accuracy: 0.9966 - val_loss: 0.2765 - val_accuracy: 0.9296\n",
            "Epoch 6/18\n",
            "3035/3035 [==============================] - 797s 263ms/step - loss: 0.0117 - accuracy: 0.9964 - val_loss: 0.2294 - val_accuracy: 0.9258\n",
            "Epoch 7/18\n",
            "3035/3035 [==============================] - 796s 262ms/step - loss: 0.0110 - accuracy: 0.9967 - val_loss: 0.6105 - val_accuracy: 0.9280\n",
            "Epoch 8/18\n",
            "3035/3035 [==============================] - 795s 262ms/step - loss: 0.0093 - accuracy: 0.9970 - val_loss: 0.5157 - val_accuracy: 0.9277\n",
            "Epoch 9/18\n",
            "3035/3035 [==============================] - 796s 262ms/step - loss: 0.0113 - accuracy: 0.9968 - val_loss: 0.2503 - val_accuracy: 0.9355\n",
            "Epoch 10/18\n",
            "3035/3035 [==============================] - 796s 262ms/step - loss: 0.0090 - accuracy: 0.9973 - val_loss: 0.3109 - val_accuracy: 0.9354\n",
            "Epoch 11/18\n",
            "3035/3035 [==============================] - 798s 263ms/step - loss: 0.0080 - accuracy: 0.9975 - val_loss: 0.2334 - val_accuracy: 0.9382\n",
            "Epoch 12/18\n",
            "3035/3035 [==============================] - 799s 263ms/step - loss: 0.0094 - accuracy: 0.9972 - val_loss: 0.5053 - val_accuracy: 0.9362\n",
            "Epoch 13/18\n",
            "3035/3035 [==============================] - 799s 263ms/step - loss: 0.0073 - accuracy: 0.9978 - val_loss: 0.2213 - val_accuracy: 0.9410\n",
            "Epoch 14/18\n",
            "3035/3035 [==============================] - 790s 260ms/step - loss: 0.0088 - accuracy: 0.9972 - val_loss: 0.3466 - val_accuracy: 0.9363\n",
            "Epoch 15/18\n",
            "3035/3035 [==============================] - 791s 261ms/step - loss: 0.0088 - accuracy: 0.9976 - val_loss: 0.0654 - val_accuracy: 0.9299\n",
            "Epoch 16/18\n",
            "3035/3035 [==============================] - 793s 261ms/step - loss: 0.0082 - accuracy: 0.9977 - val_loss: 0.3643 - val_accuracy: 0.9347\n",
            "Epoch 17/18\n",
            "3035/3035 [==============================] - 791s 261ms/step - loss: 0.0111 - accuracy: 0.9977 - val_loss: 0.1967 - val_accuracy: 0.9403\n",
            "Epoch 18/18\n",
            "3035/3035 [==============================] - 794s 261ms/step - loss: 0.0082 - accuracy: 0.9981 - val_loss: 0.2496 - val_accuracy: 0.9378\n"
          ],
          "name": "stdout"
        }
      ]
    },
    {
      "cell_type": "code",
      "metadata": {
        "id": "WOBkCU4Mgtl8",
        "colab_type": "code",
        "outputId": "3239fcc0-8ac3-4224-fa6a-1a811d67af68",
        "colab": {
          "base_uri": "https://localhost:8080/",
          "height": 357
        }
      },
      "source": [
        "model.summary()"
      ],
      "execution_count": 21,
      "outputs": [
        {
          "output_type": "stream",
          "text": [
            "Model: \"model_1\"\n",
            "_________________________________________________________________\n",
            "Layer (type)                 Output Shape              Param #   \n",
            "=================================================================\n",
            "input_1 (InputLayer)         (None, 50, 50, 4)         0         \n",
            "_________________________________________________________________\n",
            "quaternion_conv2d_3 (Quatern (None, 50, 50, 1024)      10240     \n",
            "_________________________________________________________________\n",
            "max_pooling2d_3 (MaxPooling2 (None, 25, 25, 1024)      0         \n",
            "_________________________________________________________________\n",
            "flatten_1 (Flatten)          (None, 640000)            0         \n",
            "_________________________________________________________________\n",
            "quaternion_dense_1 (Quaterni (None, 256)               40960256  \n",
            "_________________________________________________________________\n",
            "dense_1 (Dense)              (None, 1)                 257       \n",
            "=================================================================\n",
            "Total params: 40,970,753\n",
            "Trainable params: 40,970,753\n",
            "Non-trainable params: 0\n",
            "_________________________________________________________________\n"
          ],
          "name": "stdout"
        }
      ]
    },
    {
      "cell_type": "code",
      "metadata": {
        "id": "j7qYGUI8qdEA",
        "colab_type": "code",
        "outputId": "ea6635b9-158e-49f8-d2ed-e0ef9f4ab7dc",
        "colab": {
          "base_uri": "https://localhost:8080/",
          "height": 590
        }
      },
      "source": [
        "# tensorboard logs \n",
        "print(history.history.keys())\n",
        "#  \"Accuracy\"\n",
        "plt.plot(history.history['accuracy'])\n",
        "plt.plot(history.history['val_accuracy'])\n",
        "plt.title('model accuracy')\n",
        "plt.ylabel('accuracy')\n",
        "plt.xlabel('epoch')\n",
        "plt.legend(['train', 'validation'], loc='upper left')\n",
        "plt.show()\n",
        "# \"Loss\"\n",
        "plt.plot(history.history['loss'])\n",
        "plt.plot(history.history['val_loss'])\n",
        "plt.title('model loss')\n",
        "plt.ylabel('loss')\n",
        "plt.xlabel('epoch')\n",
        "plt.legend(['train', 'validation'], loc='upper left')\n",
        "plt.show()"
      ],
      "execution_count": 30,
      "outputs": [
        {
          "output_type": "stream",
          "text": [
            "dict_keys(['val_loss', 'val_accuracy', 'loss', 'accuracy'])\n"
          ],
          "name": "stdout"
        },
        {
          "output_type": "display_data",
          "data": {
            "image/png": "[encoded data removed]",
            "text/plain": [
              "<Figure size 432x288 with 1 Axes>"
            ]
          },
          "metadata": {
            "tags": [],
            "needs_background": "light"
          }
        },
        {
          "output_type": "display_data",
          "data": {
            "image/png": "[encoded data removed]",
            "text/plain": [
              "<Figure size 432x288 with 1 Axes>"
            ]
          },
          "metadata": {
            "tags": [],
            "needs_background": "light"
          }
        }
      ]
    },
    {
      "cell_type": "code",
      "metadata": {
        "id": "gdFs53eUhYme",
        "colab_type": "code",
        "colab": {
          "base_uri": "https://localhost:8080/",
          "height": 34
        },
        "outputId": "f657b2ec-9c3d-4465-ce50-5e77590e90d0"
      },
      "source": [
        "print(history.history.keys())"
      ],
      "execution_count": 23,
      "outputs": [
        {
          "output_type": "stream",
          "text": [
            "dict_keys(['val_loss', 'val_accuracy', 'loss', 'accuracy'])\n"
          ],
          "name": "stdout"
        }
      ]
    },
    {
      "cell_type": "code",
      "metadata": {
        "id": "NlOZthxqRrPq",
        "colab_type": "code",
        "colab": {
          "base_uri": "https://localhost:8080/",
          "height": 119
        },
        "outputId": "7a56c315-387a-4c10-db64-756befef0db0"
      },
      "source": [
        "for layer in model.layers:\n",
        "    print(layer.name)"
      ],
      "execution_count": 24,
      "outputs": [
        {
          "output_type": "stream",
          "text": [
            "input_1\n",
            "quaternion_conv2d_3\n",
            "max_pooling2d_3\n",
            "flatten_1\n",
            "quaternion_dense_1\n",
            "dense_1\n"
          ],
          "name": "stdout"
        }
      ]
    },
    {
      "cell_type": "code",
      "metadata": {
        "id": "IKqZwgRSRx-B",
        "colab_type": "code",
        "colab": {
          "base_uri": "https://localhost:8080/",
          "height": 1000
        },
        "outputId": "aa75fb74-8d83-438c-a165-6ccdc6d7a8b3"
      },
      "source": [
        "\n",
        "\n",
        "\n",
        "history.history"
      ],
      "execution_count": 38,
      "outputs": [
        {
          "output_type": "execute_result",
          "data": {
            "text/plain": [
              "{'accuracy': [0.9955236,\n",
              "  0.9953588,\n",
              "  0.9957424,\n",
              "  0.99616194,\n",
              "  0.9966073,\n",
              "  0.99639106,\n",
              "  0.99665105,\n",
              "  0.9969728,\n",
              "  0.9968209,\n",
              "  0.9973306,\n",
              "  0.99753654,\n",
              "  0.99716073,\n",
              "  0.99783516,\n",
              "  0.9972251,\n",
              "  0.9975597,\n",
              "  0.9976833,\n",
              "  0.99773216,\n",
              "  0.9981003],\n",
              " 'loss': [0.014231665225926237,\n",
              "  0.014520826881472942,\n",
              "  0.014859979969388065,\n",
              "  0.01596550633257601,\n",
              "  0.012408542831890463,\n",
              "  0.011713207289787976,\n",
              "  0.011045398794662887,\n",
              "  0.009288341226130536,\n",
              "  0.011250404633053837,\n",
              "  0.008954382407725269,\n",
              "  0.007952727437518669,\n",
              "  0.009413306093357837,\n",
              "  0.007258205408077665,\n",
              "  0.008833427567273639,\n",
              "  0.008775845878650783,\n",
              "  0.008182953418969878,\n",
              "  0.01107004956675979,\n",
              "  0.00823284449638425],\n",
              " 'val_accuracy': [0.9185048937797546,\n",
              "  0.9224576950073242,\n",
              "  0.9249687790870667,\n",
              "  0.9285911917686462,\n",
              "  0.9296364188194275,\n",
              "  0.9258217811584473,\n",
              "  0.9279783964157104,\n",
              "  0.9277201294898987,\n",
              "  0.9354515075683594,\n",
              "  0.9354454874992371,\n",
              "  0.93816077709198,\n",
              "  0.9361904263496399,\n",
              "  0.9410082697868347,\n",
              "  0.9362505078315735,\n",
              "  0.9299368262290955,\n",
              "  0.9346765875816345,\n",
              "  0.9403174519538879,\n",
              "  0.9378063678741455],\n",
              " 'val_loss': [0.4173489809036255,\n",
              "  0.5216850638389587,\n",
              "  0.41576963663101196,\n",
              "  0.4553910195827484,\n",
              "  0.27646303176879883,\n",
              "  0.2294279783964157,\n",
              "  0.6104782819747925,\n",
              "  0.5156514644622803,\n",
              "  0.25032299757003784,\n",
              "  0.31085556745529175,\n",
              "  0.23336908221244812,\n",
              "  0.5053032040596008,\n",
              "  0.2212948501110077,\n",
              "  0.3466361463069916,\n",
              "  0.06538549810647964,\n",
              "  0.36433035135269165,\n",
              "  0.1967138946056366,\n",
              "  0.24955016374588013]}"
            ]
          },
          "metadata": {
            "tags": []
          },
          "execution_count": 38
        }
      ]
    },
    {
      "cell_type": "code",
      "metadata": {
        "id": "w8FkkF8hN4AS",
        "colab_type": "code",
        "colab": {
          "base_uri": "https://localhost:8080/",
          "height": 323
        },
        "outputId": "f643e33a-3aca-4031-e4eb-d4f325c46844"
      },
      "source": [
        "history.history['val_accuracy']"
      ],
      "execution_count": 39,
      "outputs": [
        {
          "output_type": "execute_result",
          "data": {
            "text/plain": [
              "[0.9185048937797546,\n",
              " 0.9224576950073242,\n",
              " 0.9249687790870667,\n",
              " 0.9285911917686462,\n",
              " 0.9296364188194275,\n",
              " 0.9258217811584473,\n",
              " 0.9279783964157104,\n",
              " 0.9277201294898987,\n",
              " 0.9354515075683594,\n",
              " 0.9354454874992371,\n",
              " 0.93816077709198,\n",
              " 0.9361904263496399,\n",
              " 0.9410082697868347,\n",
              " 0.9362505078315735,\n",
              " 0.9299368262290955,\n",
              " 0.9346765875816345,\n",
              " 0.9403174519538879,\n",
              " 0.9378063678741455]"
            ]
          },
          "metadata": {
            "tags": []
          },
          "execution_count": 39
        }
      ]
    },
    {
      "cell_type": "code",
      "metadata": {
        "id": "zbLCj7nQR8Qj",
        "colab_type": "code",
        "colab": {
          "base_uri": "https://localhost:8080/",
          "height": 579
        },
        "outputId": "f118bf39-3001-4fd7-a20a-84873f6f3d38"
      },
      "source": [
        "# display the loss and accuracy curves\n",
        "\n",
        "import matplotlib.pyplot as plt\n",
        "\n",
        "acc = history.history['accuracy']\n",
        "val_acc = history.history['val_accuracy']\n",
        "loss = history.history['loss']\n",
        "val_loss = history.history['val_loss']\n",
        "\n",
        "epochs = range(1, len(acc) + 1)\n",
        "\n",
        "plt.plot(epochs, loss, 'bo', label='Training loss')\n",
        "plt.plot(epochs, val_loss, 'b', label='Validation loss')\n",
        "plt.title('Training and validation loss')\n",
        "plt.legend()\n",
        "plt.figure()\n",
        "\n",
        "plt.plot(epochs, acc, 'bo', label='Training acc')\n",
        "plt.plot(epochs, val_acc, 'b', label='Validation acc')\n",
        "plt.title('Training and validation accuracy')\n",
        "plt.legend()\n",
        "plt.figure()"
      ],
      "execution_count": 41,
      "outputs": [
        {
          "output_type": "execute_result",
          "data": {
            "text/plain": [
              "<Figure size 432x288 with 0 Axes>"
            ]
          },
          "metadata": {
            "tags": []
          },
          "execution_count": 41
        },
        {
          "output_type": "display_data",
          "data": {
            "image/png": "[encoded data removed]",
            "text/plain": [
              "<Figure size 432x288 with 1 Axes>"
            ]
          },
          "metadata": {
            "tags": [],
            "needs_background": "light"
          }
        },
        {
          "output_type": "display_data",
          "data": {
            "image/png": "[encoded data removed]",
            "text/plain": [
              "<Figure size 432x288 with 1 Axes>"
            ]
          },
          "metadata": {
            "tags": [],
            "needs_background": "light"
          }
        },
        {
          "output_type": "display_data",
          "data": {
            "text/plain": [
              "<Figure size 432x288 with 0 Axes>"
            ]
          },
          "metadata": {
            "tags": []
          }
        }
      ]
    },
    {
      "cell_type": "code",
      "metadata": {
        "id": "yh9ck3vBSQ0B",
        "colab_type": "code",
        "colab": {
          "base_uri": "https://localhost:8080/",
          "height": 340
        },
        "outputId": "f13d6da8-c825-4cd7-b9c3-a5a1578f14c1"
      },
      "source": [
        "from keras.models import load_model\n",
        "\n",
        "model.save('my_model.h5')  # creates a HDF5 file 'my_model.h5'"
      ],
      "execution_count": 29,
      "outputs": [
        {
          "output_type": "error",
          "ename": "NameError",
          "evalue": "ignored",
          "traceback": [
            "\u001b[0;31m---------------------------------------------------------------------------\u001b[0m",
            "\u001b[0;31mNameError\u001b[0m                                 Traceback (most recent call last)",
            "\u001b[0;32m<ipython-input-29-c00c7b0758ee>\u001b[0m in \u001b[0;36m<module>\u001b[0;34m()\u001b[0m\n\u001b[1;32m      1\u001b[0m \u001b[0;32mfrom\u001b[0m \u001b[0mkeras\u001b[0m\u001b[0;34m.\u001b[0m\u001b[0mmodels\u001b[0m \u001b[0;32mimport\u001b[0m \u001b[0mload_model\u001b[0m\u001b[0;34m\u001b[0m\u001b[0;34m\u001b[0m\u001b[0m\n\u001b[1;32m      2\u001b[0m \u001b[0;34m\u001b[0m\u001b[0m\n\u001b[0;32m----> 3\u001b[0;31m \u001b[0mmodel\u001b[0m\u001b[0;34m.\u001b[0m\u001b[0msave\u001b[0m\u001b[0;34m(\u001b[0m\u001b[0;34m'my_model.h5'\u001b[0m\u001b[0;34m)\u001b[0m  \u001b[0;31m# creates a HDF5 file 'my_model.h5'\u001b[0m\u001b[0;34m\u001b[0m\u001b[0;34m\u001b[0m\u001b[0m\n\u001b[0m",
            "\u001b[0;32m/usr/local/lib/python3.6/dist-packages/keras/engine/network.py\u001b[0m in \u001b[0;36msave\u001b[0;34m(self, filepath, overwrite, include_optimizer)\u001b[0m\n\u001b[1;32m   1150\u001b[0m             \u001b[0;32mraise\u001b[0m \u001b[0mNotImplementedError\u001b[0m\u001b[0;34m\u001b[0m\u001b[0;34m\u001b[0m\u001b[0m\n\u001b[1;32m   1151\u001b[0m         \u001b[0;32mfrom\u001b[0m \u001b[0;34m.\u001b[0m\u001b[0;34m.\u001b[0m\u001b[0mmodels\u001b[0m \u001b[0;32mimport\u001b[0m \u001b[0msave_model\u001b[0m\u001b[0;34m\u001b[0m\u001b[0;34m\u001b[0m\u001b[0m\n\u001b[0;32m-> 1152\u001b[0;31m         \u001b[0msave_model\u001b[0m\u001b[0;34m(\u001b[0m\u001b[0mself\u001b[0m\u001b[0;34m,\u001b[0m \u001b[0mfilepath\u001b[0m\u001b[0;34m,\u001b[0m \u001b[0moverwrite\u001b[0m\u001b[0;34m,\u001b[0m \u001b[0minclude_optimizer\u001b[0m\u001b[0;34m)\u001b[0m\u001b[0;34m\u001b[0m\u001b[0;34m\u001b[0m\u001b[0m\n\u001b[0m\u001b[1;32m   1153\u001b[0m \u001b[0;34m\u001b[0m\u001b[0m\n\u001b[1;32m   1154\u001b[0m     \u001b[0;34m@\u001b[0m\u001b[0msaving\u001b[0m\u001b[0;34m.\u001b[0m\u001b[0mallow_write_to_gcs\u001b[0m\u001b[0;34m\u001b[0m\u001b[0;34m\u001b[0m\u001b[0m\n",
            "\u001b[0;32m/usr/local/lib/python3.6/dist-packages/keras/engine/saving.py\u001b[0m in \u001b[0;36msave_wrapper\u001b[0;34m(obj, filepath, overwrite, *args, **kwargs)\u001b[0m\n\u001b[1;32m    447\u001b[0m                 \u001b[0mos\u001b[0m\u001b[0;34m.\u001b[0m\u001b[0mremove\u001b[0m\u001b[0;34m(\u001b[0m\u001b[0mtmp_filepath\u001b[0m\u001b[0;34m)\u001b[0m\u001b[0;34m\u001b[0m\u001b[0;34m\u001b[0m\u001b[0m\n\u001b[1;32m    448\u001b[0m         \u001b[0;32melse\u001b[0m\u001b[0;34m:\u001b[0m\u001b[0;34m\u001b[0m\u001b[0;34m\u001b[0m\u001b[0m\n\u001b[0;32m--> 449\u001b[0;31m             \u001b[0msave_function\u001b[0m\u001b[0;34m(\u001b[0m\u001b[0mobj\u001b[0m\u001b[0;34m,\u001b[0m \u001b[0mfilepath\u001b[0m\u001b[0;34m,\u001b[0m \u001b[0moverwrite\u001b[0m\u001b[0;34m,\u001b[0m \u001b[0;34m*\u001b[0m\u001b[0margs\u001b[0m\u001b[0;34m,\u001b[0m \u001b[0;34m**\u001b[0m\u001b[0mkwargs\u001b[0m\u001b[0;34m)\u001b[0m\u001b[0;34m\u001b[0m\u001b[0;34m\u001b[0m\u001b[0m\n\u001b[0m\u001b[1;32m    450\u001b[0m \u001b[0;34m\u001b[0m\u001b[0m\n\u001b[1;32m    451\u001b[0m     \u001b[0;32mreturn\u001b[0m \u001b[0msave_wrapper\u001b[0m\u001b[0;34m\u001b[0m\u001b[0;34m\u001b[0m\u001b[0m\n",
            "\u001b[0;32m/usr/local/lib/python3.6/dist-packages/keras/engine/saving.py\u001b[0m in \u001b[0;36msave_model\u001b[0;34m(model, filepath, overwrite, include_optimizer)\u001b[0m\n\u001b[1;32m    539\u001b[0m                 \u001b[0;32mreturn\u001b[0m\u001b[0;34m\u001b[0m\u001b[0;34m\u001b[0m\u001b[0m\n\u001b[1;32m    540\u001b[0m         \u001b[0;32mwith\u001b[0m \u001b[0mH5Dict\u001b[0m\u001b[0;34m(\u001b[0m\u001b[0mfilepath\u001b[0m\u001b[0;34m,\u001b[0m \u001b[0mmode\u001b[0m\u001b[0;34m=\u001b[0m\u001b[0;34m'w'\u001b[0m\u001b[0;34m)\u001b[0m \u001b[0;32mas\u001b[0m \u001b[0mh5dict\u001b[0m\u001b[0;34m:\u001b[0m\u001b[0;34m\u001b[0m\u001b[0;34m\u001b[0m\u001b[0m\n\u001b[0;32m--> 541\u001b[0;31m             \u001b[0m_serialize_model\u001b[0m\u001b[0;34m(\u001b[0m\u001b[0mmodel\u001b[0m\u001b[0;34m,\u001b[0m \u001b[0mh5dict\u001b[0m\u001b[0;34m,\u001b[0m \u001b[0minclude_optimizer\u001b[0m\u001b[0;34m)\u001b[0m\u001b[0;34m\u001b[0m\u001b[0;34m\u001b[0m\u001b[0m\n\u001b[0m\u001b[1;32m    542\u001b[0m     \u001b[0;32melif\u001b[0m \u001b[0mhasattr\u001b[0m\u001b[0;34m(\u001b[0m\u001b[0mfilepath\u001b[0m\u001b[0;34m,\u001b[0m \u001b[0;34m'write'\u001b[0m\u001b[0;34m)\u001b[0m \u001b[0;32mand\u001b[0m \u001b[0mcallable\u001b[0m\u001b[0;34m(\u001b[0m\u001b[0mfilepath\u001b[0m\u001b[0;34m.\u001b[0m\u001b[0mwrite\u001b[0m\u001b[0;34m)\u001b[0m\u001b[0;34m:\u001b[0m\u001b[0;34m\u001b[0m\u001b[0;34m\u001b[0m\u001b[0m\n\u001b[1;32m    543\u001b[0m         \u001b[0;31m# write as binary stream\u001b[0m\u001b[0;34m\u001b[0m\u001b[0;34m\u001b[0m\u001b[0;34m\u001b[0m\u001b[0m\n",
            "\u001b[0;32m/usr/local/lib/python3.6/dist-packages/keras/engine/saving.py\u001b[0m in \u001b[0;36m_serialize_model\u001b[0;34m(model, h5dict, include_optimizer)\u001b[0m\n\u001b[1;32m    127\u001b[0m     \u001b[0mmodel_config\u001b[0m \u001b[0;34m=\u001b[0m \u001b[0;34m{\u001b[0m\u001b[0;34m}\u001b[0m\u001b[0;34m\u001b[0m\u001b[0;34m\u001b[0m\u001b[0m\n\u001b[1;32m    128\u001b[0m     \u001b[0mmodel_config\u001b[0m\u001b[0;34m[\u001b[0m\u001b[0;34m'class_name'\u001b[0m\u001b[0;34m]\u001b[0m \u001b[0;34m=\u001b[0m \u001b[0mmodel\u001b[0m\u001b[0;34m.\u001b[0m\u001b[0m__class__\u001b[0m\u001b[0;34m.\u001b[0m\u001b[0m__name__\u001b[0m\u001b[0;34m\u001b[0m\u001b[0;34m\u001b[0m\u001b[0m\n\u001b[0;32m--> 129\u001b[0;31m     \u001b[0mmodel_config\u001b[0m\u001b[0;34m[\u001b[0m\u001b[0;34m'config'\u001b[0m\u001b[0;34m]\u001b[0m \u001b[0;34m=\u001b[0m \u001b[0mmodel\u001b[0m\u001b[0;34m.\u001b[0m\u001b[0mget_config\u001b[0m\u001b[0;34m(\u001b[0m\u001b[0;34m)\u001b[0m\u001b[0;34m\u001b[0m\u001b[0;34m\u001b[0m\u001b[0m\n\u001b[0m\u001b[1;32m    130\u001b[0m     \u001b[0mmodel_config\u001b[0m \u001b[0;34m=\u001b[0m \u001b[0mjson\u001b[0m\u001b[0;34m.\u001b[0m\u001b[0mdumps\u001b[0m\u001b[0;34m(\u001b[0m\u001b[0mmodel_config\u001b[0m\u001b[0;34m,\u001b[0m \u001b[0mdefault\u001b[0m\u001b[0;34m=\u001b[0m\u001b[0mget_json_type\u001b[0m\u001b[0;34m)\u001b[0m\u001b[0;34m\u001b[0m\u001b[0;34m\u001b[0m\u001b[0m\n\u001b[1;32m    131\u001b[0m     \u001b[0mmodel_config\u001b[0m \u001b[0;34m=\u001b[0m \u001b[0mmodel_config\u001b[0m\u001b[0;34m.\u001b[0m\u001b[0mencode\u001b[0m\u001b[0;34m(\u001b[0m\u001b[0;34m'utf-8'\u001b[0m\u001b[0;34m)\u001b[0m\u001b[0;34m\u001b[0m\u001b[0;34m\u001b[0m\u001b[0m\n",
            "\u001b[0;32m/usr/local/lib/python3.6/dist-packages/keras/engine/network.py\u001b[0m in \u001b[0;36mget_config\u001b[0;34m(self)\u001b[0m\n\u001b[1;32m    877\u001b[0m         \u001b[0;32mfor\u001b[0m \u001b[0mlayer\u001b[0m \u001b[0;32min\u001b[0m \u001b[0mself\u001b[0m\u001b[0;34m.\u001b[0m\u001b[0mlayers\u001b[0m\u001b[0;34m:\u001b[0m  \u001b[0;31m# From the earliest layers on.\u001b[0m\u001b[0;34m\u001b[0m\u001b[0;34m\u001b[0m\u001b[0m\n\u001b[1;32m    878\u001b[0m             \u001b[0mlayer_class_name\u001b[0m \u001b[0;34m=\u001b[0m \u001b[0mlayer\u001b[0m\u001b[0;34m.\u001b[0m\u001b[0m__class__\u001b[0m\u001b[0;34m.\u001b[0m\u001b[0m__name__\u001b[0m\u001b[0;34m\u001b[0m\u001b[0;34m\u001b[0m\u001b[0m\n\u001b[0;32m--> 879\u001b[0;31m             \u001b[0mlayer_config\u001b[0m \u001b[0;34m=\u001b[0m \u001b[0mlayer\u001b[0m\u001b[0;34m.\u001b[0m\u001b[0mget_config\u001b[0m\u001b[0;34m(\u001b[0m\u001b[0;34m)\u001b[0m\u001b[0;34m\u001b[0m\u001b[0;34m\u001b[0m\u001b[0m\n\u001b[0m\u001b[1;32m    880\u001b[0m             \u001b[0mfiltered_inbound_nodes\u001b[0m \u001b[0;34m=\u001b[0m \u001b[0;34m[\u001b[0m\u001b[0;34m]\u001b[0m\u001b[0;34m\u001b[0m\u001b[0;34m\u001b[0m\u001b[0m\n\u001b[1;32m    881\u001b[0m             \u001b[0;32mfor\u001b[0m \u001b[0moriginal_node_index\u001b[0m\u001b[0;34m,\u001b[0m \u001b[0mnode\u001b[0m \u001b[0;32min\u001b[0m \u001b[0menumerate\u001b[0m\u001b[0;34m(\u001b[0m\u001b[0mlayer\u001b[0m\u001b[0;34m.\u001b[0m\u001b[0m_inbound_nodes\u001b[0m\u001b[0;34m)\u001b[0m\u001b[0;34m:\u001b[0m\u001b[0;34m\u001b[0m\u001b[0;34m\u001b[0m\u001b[0m\n",
            "\u001b[0;32m/content/complexnn/conv.py\u001b[0m in \u001b[0;36mget_config\u001b[0;34m(self)\u001b[0m\n\u001b[1;32m    654\u001b[0m \u001b[0;34m\u001b[0m\u001b[0m\n\u001b[1;32m    655\u001b[0m     \u001b[0;32mdef\u001b[0m \u001b[0mget_config\u001b[0m\u001b[0;34m(\u001b[0m\u001b[0mself\u001b[0m\u001b[0;34m)\u001b[0m\u001b[0;34m:\u001b[0m\u001b[0;34m\u001b[0m\u001b[0;34m\u001b[0m\u001b[0m\n\u001b[0;32m--> 656\u001b[0;31m         \u001b[0mconfig\u001b[0m \u001b[0;34m=\u001b[0m \u001b[0msuper\u001b[0m\u001b[0;34m(\u001b[0m\u001b[0mQuaternionConv2D\u001b[0m\u001b[0;34m,\u001b[0m \u001b[0mself\u001b[0m\u001b[0;34m)\u001b[0m\u001b[0;34m.\u001b[0m\u001b[0mget_config\u001b[0m\u001b[0;34m(\u001b[0m\u001b[0;34m)\u001b[0m\u001b[0;34m\u001b[0m\u001b[0;34m\u001b[0m\u001b[0m\n\u001b[0m\u001b[1;32m    657\u001b[0m         \u001b[0mconfig\u001b[0m\u001b[0;34m.\u001b[0m\u001b[0mpop\u001b[0m\u001b[0;34m(\u001b[0m\u001b[0;34m'rank'\u001b[0m\u001b[0;34m)\u001b[0m\u001b[0;34m\u001b[0m\u001b[0;34m\u001b[0m\u001b[0m\n\u001b[1;32m    658\u001b[0m         \u001b[0;32mreturn\u001b[0m \u001b[0mconfig\u001b[0m\u001b[0;34m\u001b[0m\u001b[0;34m\u001b[0m\u001b[0m\n",
            "\u001b[0;32m/content/complexnn/conv.py\u001b[0m in \u001b[0;36mget_config\u001b[0;34m(self)\u001b[0m\n\u001b[1;32m    385\u001b[0m             \u001b[0;34m'normalize_weight'\u001b[0m\u001b[0;34m:\u001b[0m \u001b[0mself\u001b[0m\u001b[0;34m.\u001b[0m\u001b[0mnormalize_weight\u001b[0m\u001b[0;34m,\u001b[0m\u001b[0;34m\u001b[0m\u001b[0;34m\u001b[0m\u001b[0m\n\u001b[1;32m    386\u001b[0m             \u001b[0;34m'kernel_initializer'\u001b[0m\u001b[0;34m:\u001b[0m \u001b[0msanitizedInitSer\u001b[0m\u001b[0;34m(\u001b[0m\u001b[0mself\u001b[0m\u001b[0;34m.\u001b[0m\u001b[0mkernel_initializer\u001b[0m\u001b[0;34m)\u001b[0m\u001b[0;34m,\u001b[0m\u001b[0;34m\u001b[0m\u001b[0;34m\u001b[0m\u001b[0m\n\u001b[0;32m--> 387\u001b[0;31m             \u001b[0;34m'bias_initializer'\u001b[0m\u001b[0;34m:\u001b[0m \u001b[0msanitizedInitSer\u001b[0m\u001b[0;34m(\u001b[0m\u001b[0mself\u001b[0m\u001b[0;34m.\u001b[0m\u001b[0mbias_initializer\u001b[0m\u001b[0;34m)\u001b[0m\u001b[0;34m,\u001b[0m\u001b[0;34m\u001b[0m\u001b[0;34m\u001b[0m\u001b[0m\n\u001b[0m\u001b[1;32m    388\u001b[0m             \u001b[0;34m'gamma_diag_initializer'\u001b[0m\u001b[0;34m:\u001b[0m \u001b[0msanitizedInitSer\u001b[0m\u001b[0;34m(\u001b[0m\u001b[0mself\u001b[0m\u001b[0;34m.\u001b[0m\u001b[0mgamma_diag_initializer\u001b[0m\u001b[0;34m)\u001b[0m\u001b[0;34m,\u001b[0m\u001b[0;34m\u001b[0m\u001b[0;34m\u001b[0m\u001b[0m\n\u001b[1;32m    389\u001b[0m             \u001b[0;34m'gamma_off_initializer'\u001b[0m\u001b[0;34m:\u001b[0m \u001b[0msanitizedInitSer\u001b[0m\u001b[0;34m(\u001b[0m\u001b[0mself\u001b[0m\u001b[0;34m.\u001b[0m\u001b[0mgamma_off_initializer\u001b[0m\u001b[0;34m)\u001b[0m\u001b[0;34m,\u001b[0m\u001b[0;34m\u001b[0m\u001b[0;34m\u001b[0m\u001b[0m\n",
            "\u001b[0;32m/content/complexnn/conv.py\u001b[0m in \u001b[0;36msanitizedInitSer\u001b[0;34m(init)\u001b[0m\n\u001b[1;32m    807\u001b[0m     \u001b[0;32mif\u001b[0m \u001b[0minit\u001b[0m \u001b[0;32min\u001b[0m \u001b[0;34m[\u001b[0m\u001b[0msqrt_init\u001b[0m\u001b[0;34m]\u001b[0m\u001b[0;34m:\u001b[0m\u001b[0;34m\u001b[0m\u001b[0;34m\u001b[0m\u001b[0m\n\u001b[1;32m    808\u001b[0m         \u001b[0;32mreturn\u001b[0m \u001b[0;34m\"sqrt_init\"\u001b[0m\u001b[0;34m\u001b[0m\u001b[0;34m\u001b[0m\u001b[0m\n\u001b[0;32m--> 809\u001b[0;31m     \u001b[0;32melif\u001b[0m \u001b[0minit\u001b[0m \u001b[0;34m==\u001b[0m \u001b[0;34m\"quaternion\"\u001b[0m \u001b[0;32mor\u001b[0m \u001b[0misinstance\u001b[0m\u001b[0;34m(\u001b[0m\u001b[0minit\u001b[0m\u001b[0;34m,\u001b[0m \u001b[0mQuaternionInit\u001b[0m\u001b[0;34m)\u001b[0m\u001b[0;34m:\u001b[0m\u001b[0;34m\u001b[0m\u001b[0;34m\u001b[0m\u001b[0m\n\u001b[0m\u001b[1;32m    810\u001b[0m         \u001b[0;32mreturn\u001b[0m \u001b[0;34m\"quaternion\"\u001b[0m\u001b[0;34m\u001b[0m\u001b[0;34m\u001b[0m\u001b[0m\n\u001b[1;32m    811\u001b[0m     \u001b[0;32melif\u001b[0m \u001b[0minit\u001b[0m \u001b[0;34m==\u001b[0m \u001b[0;34m\"quaternion_independent\"\u001b[0m \u001b[0;32mor\u001b[0m \u001b[0misinstance\u001b[0m\u001b[0;34m(\u001b[0m\u001b[0minit\u001b[0m\u001b[0;34m,\u001b[0m \u001b[0mQuaternionIndependentFilters\u001b[0m\u001b[0;34m)\u001b[0m\u001b[0;34m:\u001b[0m\u001b[0;34m\u001b[0m\u001b[0;34m\u001b[0m\u001b[0m\n",
            "\u001b[0;31mNameError\u001b[0m: name 'QuaternionInit' is not defined"
          ]
        }
      ]
    }
  ]
}